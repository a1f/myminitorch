{
 "cells": [
  {
   "cell_type": "code",
   "execution_count": 1,
   "metadata": {},
   "outputs": [],
   "source": [
    "import numpy as np"
   ]
  },
  {
   "cell_type": "code",
   "execution_count": 8,
   "metadata": {},
   "outputs": [
    {
     "data": {
      "text/plain": [
       "array([[ 3],\n",
       "       [ 7],\n",
       "       [11]])"
      ]
     },
     "execution_count": 8,
     "metadata": {},
     "output_type": "execute_result"
    }
   ],
   "source": [
    "a = np.array([[1, 2], [3, 4], [5, 6]])\n",
    "res = np.sum(a, axis=1)\n",
    "x = res.reshape(-1, 1)\n",
    "x"
   ]
  },
  {
   "cell_type": "code",
   "execution_count": 16,
   "metadata": {},
   "outputs": [
    {
     "name": "stdout",
     "output_type": "stream",
     "text": [
      "w=array([[ 1,  2],\n",
      "       [-1, -2],\n",
      "       [ 3,  1]])\n",
      "x=array([[10],\n",
      "       [20]])\n",
      "(3, 2) (2, 1)\n"
     ]
    },
    {
     "data": {
      "text/plain": [
       "array([[ 50],\n",
       "       [-50],\n",
       "       [ 50]])"
      ]
     },
     "execution_count": 16,
     "metadata": {},
     "output_type": "execute_result"
    }
   ],
   "source": [
    "# 2 in -> 3 hidden\n",
    "\n",
    "w = np.array(\n",
    "    [\n",
    "        [1, 2],\n",
    "        [-1, -2],\n",
    "        [3, 1],\n",
    "    ]\n",
    ")\n",
    "print(f\"{w=}\")\n",
    "\n",
    "x = np.array([[10], [20]])\n",
    "\n",
    "print(f\"{x=}\")\n",
    "\n",
    "print(w.shape, x.shape)\n",
    "np.matmul(w, x)\n",
    "\n",
    "# b = np.array(\n",
    "#     [\n",
    "\n",
    "#     ]\n",
    "# )"
   ]
  },
  {
   "cell_type": "code",
   "execution_count": 17,
   "metadata": {},
   "outputs": [
    {
     "data": {
      "text/plain": [
       "tensor([[1.],\n",
       "        [1.],\n",
       "        [1.],\n",
       "        [1.],\n",
       "        [1.]])"
      ]
     },
     "execution_count": 17,
     "metadata": {},
     "output_type": "execute_result"
    }
   ],
   "source": [
    "import torch\n",
    "\n",
    "torch.ones(5, 1)"
   ]
  }
 ],
 "metadata": {
  "kernelspec": {
   "display_name": "ml-env",
   "language": "python",
   "name": "python3"
  },
  "language_info": {
   "codemirror_mode": {
    "name": "ipython",
    "version": 3
   },
   "file_extension": ".py",
   "mimetype": "text/x-python",
   "name": "python",
   "nbconvert_exporter": "python",
   "pygments_lexer": "ipython3",
   "version": "3.10.11"
  },
  "orig_nbformat": 4
 },
 "nbformat": 4,
 "nbformat_minor": 2
}
